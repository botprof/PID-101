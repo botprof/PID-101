{
 "cells": [
  {
   "cell_type": "markdown",
   "metadata": {},
   "source": [
    "# PID 101 for Robotics\n",
    "\n",
    "Copyright &copy; 2023 [Joshua Marshall](https://www.ece.queensu.ca/people/j-marshall)\n",
    "\n",
    "The purpose of this hands-on notebook is to provide a brief tutorial about the feedback control of simple single-input, single-output (SISO) systems, with practitioners in robotics as the intended audience.  The focus here is on the Proportional-Integral-Derivative (PID) control structure. Readers may wish to refer to an undergraduate-level textbook, such as [[1]](#references), for a more detailed treatment."
   ]
  },
  {
   "cell_type": "markdown",
   "metadata": {},
   "source": [
    "## 1D Mobile Robot\n",
    "\n",
    "Let's use a really simple mobile robot as platform for learning.  To start, we need a model. \n",
    "\n",
    "Let $v(t)$ [m/s] be the speed of a mobile robot that travels in a straight line and suppose that it has mass $m>0$ [kg], a drag coefficient $c_{\\rm d}>0$ [kg/s], and that our wheels generate a force $u(t)\\in\\mathbb{R}$ [N].  Applying Newton's Second Law, we find\n",
    "\n",
    "$$u(t)-c_{\\rm d}v(t)=m\\dot{v}(t),$$\n",
    "\n",
    "or equivalently, in a more standard form\n",
    "\n",
    "$$\\dot{v}(t) = -\\frac{c_{\\rm d}}{m}v + \\frac{1}{m}u(t).$$\n",
    "\n",
    "Notice how this model is conveniently linear (i.e., it obeys the [superposition principle](https://en.wikipedia.org/wiki/Superposition_principle)). \n",
    "\n",
    "Now let's simulate the robot's response to inputs $u(t)$.  Once we have that working, we can drive our (virtual) robot around and learn how to solve control problems (e.g., design a cruise controller)."
   ]
  },
  {
   "cell_type": "markdown",
   "metadata": {},
   "source": [
    "### Python Packages\n",
    "\n",
    "In this notebook we use the Python packages [NumPy](http://numpy.org) for arrays and [Matplotlib](http://matplotlib.org) for plotting."
   ]
  },
  {
   "cell_type": "code",
   "execution_count": 1,
   "metadata": {},
   "outputs": [],
   "source": [
    "import numpy as np\n",
    "import matplotlib.pyplot as plt"
   ]
  },
  {
   "cell_type": "markdown",
   "metadata": {},
   "source": [
    "### Simulation Setup\n",
    "\n",
    "Set the simulation time as `SIM_TIME` [s], the sample period $T>0$ as `T` [s], the mobile robot's mass $m$ as `MASS` [kg], and the drag coefficient $c_{\\rm d}$ as `C_DRAG` [kg/s]."
   ]
  },
  {
   "cell_type": "code",
   "execution_count": 2,
   "metadata": {},
   "outputs": [],
   "source": [
    "SIM_TIME = 10.0\n",
    "T = 0.1\n",
    "MASS = 1.5\n",
    "C_DRAG = 2.0"
   ]
  },
  {
   "cell_type": "markdown",
   "metadata": {},
   "source": [
    " Set up an array of simulation times `t` and find the total number of simulation data points `N`."
   ]
  },
  {
   "cell_type": "code",
   "execution_count": 3,
   "metadata": {},
   "outputs": [],
   "source": [
    "t = np.arange(0, SIM_TIME, T)\n",
    "N = np.size(t)"
   ]
  },
  {
   "cell_type": "markdown",
   "metadata": {},
   "source": [
    " Write a function to model the mobile robot's speed $v$ as `v` [m/s] as a function of the force input $u$ as `u` [N], where $u_k=u(kT)$, $k=0,1,2,\\ldots$ is applied as a [zero-order hold](https://en.wikipedia.org/wiki/Zero-order_hold) such that\n",
    "\n",
    " $$v_{k+1} = v_{k} + T \\frac{1}{m}(u_k - c_{\\rm{d}}v_k).$$"
   ]
  },
  {
   "cell_type": "code",
   "execution_count": 4,
   "metadata": {},
   "outputs": [],
   "source": [
    "def robot_speed(v, u, T):\n",
    "    \"\"\"Discrete-time 1D mobile robot speed model.\"\"\"\n",
    "\n",
    "    v_new = v + T * 1 / MASS * (u - C_DRAG * v)\n",
    "    return v_new"
   ]
  },
  {
   "cell_type": "markdown",
   "metadata": {},
   "source": [
    "### Simulate the Robot's Motion\n",
    "\n",
    "Initialize the variable arrays and the initial conditions"
   ]
  },
  {
   "cell_type": "code",
   "execution_count": 5,
   "metadata": {},
   "outputs": [],
   "source": [
    "v = np.zeros(N)\n",
    "u = np.zeros(N)\n",
    "\n",
    "# Change these if you want to change the initial conditions\n",
    "v[0] = 0.0\n",
    "u[0] = 0.0"
   ]
  },
  {
   "cell_type": "markdown",
   "metadata": {},
   "source": [
    "For each time step, simulate the vehicle motion.  Go ahead and play with $u_k$."
   ]
  },
  {
   "cell_type": "code",
   "execution_count": 6,
   "metadata": {},
   "outputs": [],
   "source": [
    "for k in range(1, N):\n",
    "    \n",
    "    # Run the vehicle speed model for one time step\n",
    "    v[k] = robot_speed(v[k - 1], u[k - 1], T)\n",
    "\n",
    "    # Create an open loop input (play with this input command)\n",
    "    u[k] = 2.0 * np.sin(k * T)\n"
   ]
  },
  {
   "cell_type": "markdown",
   "metadata": {},
   "source": [
    "### Plot the Simulation Output\n",
    "\n",
    "Let's plot the simulation output.  Start with some optional setup items for plotting."
   ]
  },
  {
   "cell_type": "code",
   "execution_count": 7,
   "metadata": {},
   "outputs": [],
   "source": [
    "# So we can use LaTeX in our text\n",
    "plt.rc(\"text\", usetex=True)\n",
    "\n",
    "# So we can use some additional math features\n",
    "plt.rc(\"text.latex\", preamble=r\"\\usepackage{amsmath}\")"
   ]
  },
  {
   "cell_type": "markdown",
   "metadata": {},
   "source": [
    "Plot the robot's speed $v(t)$ and corresponding input $u(t)$."
   ]
  },
  {
   "cell_type": "code",
   "execution_count": 8,
   "metadata": {},
   "outputs": [
    {
     "data": {
      "image/png": "[encoded data removed]",
      "text/plain": [
       "<Figure size 640x480 with 2 Axes>"
      ]
     },
     "metadata": {},
     "output_type": "display_data"
    }
   ],
   "source": [
    "fig1 = plt.figure(1)\n",
    "# Plot the speed\n",
    "ax1a = plt.subplot(211)\n",
    "plt.plot(t, v, \"C0\")\n",
    "plt.grid(color=\"0.95\")\n",
    "plt.ylabel(r\"$v$ [m/s]\")\n",
    "plt.setp(ax1a, xticklabels=[])\n",
    "# Plot the input\n",
    "ax1b = plt.subplot(212)\n",
    "plt.step(t, u, \"C1\", where=\"post\")\n",
    "plt.grid(color=\"0.95\")\n",
    "plt.ylabel(r\"$u$ [N]\")\n",
    "plt.xlabel(r\"$t$ [s]\")\n",
    "plt.show()"
   ]
  },
  {
   "cell_type": "markdown",
   "metadata": {},
   "source": [
    "### Proportional (P) Control\n",
    "\n",
    "Suppose we want a control system that automatically computes $u(t)$ to have the robot track a desired constant speed setting $v_{\\rm{d}}$ [m/s] (i.e., like the cruise control system in your car).\n",
    "\n",
    "Let $e(t):=v_{\\rm{d}}-v(t)$ be the error.  Thus, our control problem is to find $u(t)$ such that $e(t)\\rightarrow 0$ as $t\\rightarrow\\infty$ (i.e., make the error go to zero).  Compute the error dynamics\n",
    "\n",
    "$$\\dot{e}(t) = 0 - \\dot{v}(t) = \\frac{c_{\\rm{d}}}{m}v(t) - \\frac{1}{m}u(t).$$\n",
    "\n",
    "Let's guess a control law!  The most simple feedback control structure is proportional (P) control.  In this case, choose\n",
    "\n",
    "$$u(t) = k_{\\rm{P}}e(t) + c_{\\rm{d}}v_{\\rm{d}},$$\n",
    "\n",
    "where $k_{\\rm{P}}\\in\\mathbb{R}$ is called the proportional gain and the term $c_{\\rm{d}}v_{\\rm{d}}$ is called a feed-forward term.  Substituting this into the error dynamics above yields\n",
    "\n",
    "$$\\dot{e}(t) = -\\frac{1}{m}\\left(c_{\\rm{d}}+k_{\\rm{P}}\\right)e(t).$$\n",
    "\n",
    "Check for yourself (e.g., you could take the Laplace transform) that the solution to this ODE is\n",
    "\n",
    "$$e(t) = e(0)e^{-\\frac{1}{m}\\left(c_{\\rm{d}}+k_{\\rm{P}}\\right)t}$$\n",
    "\n",
    "for $t\\geq 0$ and initial error $e(0)$. In other words $e(t)\\rightarrow 0$ as $t\\rightarrow\\infty$ if $k_{\\rm{P}}>-c_{\\rm{d}}$.  Let's try our design in simulation.  Explore these questions: \n",
    "\n",
    "1. What happens as you increase $k_\\rm{P}$?  \n",
    "2. What happens if you don't apply the feed-forward term $c_{\\rm{d}}v_{\\rm{d}}$?"
   ]
  },
  {
   "cell_type": "code",
   "execution_count": 9,
   "metadata": {},
   "outputs": [
    {
     "data": {
      "image/png": "[encoded data removed]",
      "text/plain": [
       "<Figure size 640x480 with 2 Axes>"
      ]
     },
     "metadata": {},
     "output_type": "display_data"
    }
   ],
   "source": [
    "# Pick the desired speed a proportional gain (play with this gain)\n",
    "V_DESIRED = 2.0\n",
    "K_P = -C_DRAG + 1.0\n",
    "\n",
    "# Set the initial conditions\n",
    "v[0] = 0.0\n",
    "u[0] = 0.0\n",
    "\n",
    "# Simulate the closed-loop response\n",
    "for k in range(1, N):\n",
    "    v[k] = robot_speed(v[k - 1], u[k - 1], T)\n",
    "    u[k] = K_P * (V_DESIRED - v[k]) + C_DRAG * V_DESIRED\n",
    "\n",
    "# Plot the simulation output\n",
    "fig2 = plt.figure(2)\n",
    "# Plot the speed\n",
    "ax1a = plt.subplot(211)\n",
    "plt.plot(t, v, \"C0\")\n",
    "plt.grid(color=\"0.95\")\n",
    "plt.ylabel(r\"$v$ [m/s]\")\n",
    "plt.setp(ax1a, xticklabels=[])\n",
    "# Plot the input\n",
    "ax1b = plt.subplot(212)\n",
    "plt.step(t, u, \"C1\", where=\"post\")\n",
    "plt.grid(color=\"0.95\")\n",
    "plt.ylabel(r\"$u$ [N]\")\n",
    "plt.xlabel(r\"$t$ [s]\")\n",
    "plt.show()"
   ]
  },
  {
   "cell_type": "markdown",
   "metadata": {},
   "source": [
    "### Proportional-Integral (PI) Control\n",
    "\n",
    "What if we don't precisely know the value of $c_{\\rm{d}}$?  Or, what if our vehicle encounters a hill?  Will our proportional-only controller (with feed-forward) design work?  Convince yourself (maybe by a simulation experiment) that the answer is, of course, no it will not.\n",
    "\n",
    "In the case the vehicle is now going up or down a hill with slope $\\theta\\in(-\\frac{\\pi}{2},\\frac{\\pi}{2})$, we have\n",
    "\n",
    "$$u(t)-c_{\\rm d}v(t)-mg\\sin\\theta=m\\dot{v}(t),$$\n",
    "\n",
    "where $g$ [N/kg] is the acceleration due to gravity.\n",
    "\n",
    "We could again try to feed-forward the gravity term $mg\\sin\\theta$, but it is unlikely, in practice, that we will ever know exactly the mass, gravity, and angle of the slope.  And the problem of knowing the drag coefficient (or other effect we haven't modelled) remains.\n",
    "\n",
    "This is where integral action comes in.  What if we add an extra term to our controller design that tries to learn the feed-forward term and even the extra resistance due to gravity?  "
   ]
  },
  {
   "cell_type": "markdown",
   "metadata": {},
   "source": [
    "## References\n",
    "\n",
    "1. G. F. Franklin, J. D. Powell, and A. Emami-Naeini, *Feedback Control of Dynamic Systems*. Pearson Prentice Hall, 5th ed., 2006.\n",
    "\n",
    "2. J. Doyle, B. Francis, and A. Tannenbaum, *Feedback Control Theory*. Macmillan Publishing Co., 1990.\n",
    "\n",
    "3. R. Mukherji, *MDR Controls Course: Time and Frequency Domain Methods for Continuous Systems*, MDA Space Missions, Brampton, ON Canada, November 2003."
   ]
  },
  {
   "cell_type": "markdown",
   "metadata": {},
   "source": []
  }
 ],
 "metadata": {
  "kernelspec": {
   "display_name": "Python 3 (ipykernel)",
   "language": "python",
   "name": "python3"
  },
  "language_info": {
   "codemirror_mode": {
    "name": "ipython",
    "version": 3
   },
   "file_extension": ".py",
   "mimetype": "text/x-python",
   "name": "python",
   "nbconvert_exporter": "python",
   "pygments_lexer": "ipython3",
   "version": "3.9.16"
  }
 },
 "nbformat": 4,
 "nbformat_minor": 4
}
