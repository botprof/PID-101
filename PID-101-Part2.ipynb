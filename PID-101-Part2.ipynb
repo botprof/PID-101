{
 "cells": [
  {
   "cell_type": "markdown",
   "metadata": {},
   "source": [
    "# PID 101 for Robotics: Part II — Tuning\n",
    "\n",
    "Copyright &copy; 2023 [Joshua Marshall](https://offroad.engineering.queensu.ca/people/joshua-marshall/)\n",
    "\n"
   ]
  }
 ],
 "metadata": {
  "kernelspec": {
   "display_name": "base",
   "language": "python",
   "name": "python3"
  },
  "language_info": {
   "name": "python",
   "version": "3.9.17"
  },
  "orig_nbformat": 4
 },
 "nbformat": 4,
 "nbformat_minor": 2
}
